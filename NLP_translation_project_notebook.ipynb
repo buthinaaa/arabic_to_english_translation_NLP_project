{
  "nbformat": 4,
  "nbformat_minor": 0,
  "metadata": {
    "colab": {
      "provenance": [],
      "collapsed_sections": [
        "g_DbpUjdN_0X",
        "0oO9Cs8kODI3",
        "5HM3Xe_COHTh",
        "ybMpaszNWWLc",
        "GaZJGTOzfVR-",
        "Bk3b6NDJwH6N",
        "yktSjcgkfXqs",
        "T2Jqz58c0rwy",
        "6N0IabXW_SZE",
        "4QPXlJ8E_a3O"
      ],
      "gpuType": "T4"
    },
    "kernelspec": {
      "name": "python3",
      "display_name": "Python 3"
    },
    "language_info": {
      "name": "python"
    },
    "widgets": {
      "application/vnd.jupyter.widget-state+json": {
        "fcb961c815c148c085964f22348dd0af": {
          "model_module": "@jupyter-widgets/controls",
          "model_name": "HBoxModel",
          "model_module_version": "1.5.0",
          "state": {
            "_dom_classes": [],
            "_model_module": "@jupyter-widgets/controls",
            "_model_module_version": "1.5.0",
            "_model_name": "HBoxModel",
            "_view_count": null,
            "_view_module": "@jupyter-widgets/controls",
            "_view_module_version": "1.5.0",
            "_view_name": "HBoxView",
            "box_style": "",
            "children": [
              "IPY_MODEL_87f9fd50026d48829251cd28fa795f74",
              "IPY_MODEL_248d6acd374a41f290a301cc33fc6103",
              "IPY_MODEL_9ca11ad303264991a35b6235a393fb09"
            ],
            "layout": "IPY_MODEL_0ba90bbbb3504b39942327b0e941ddcd"
          }
        },
        "87f9fd50026d48829251cd28fa795f74": {
          "model_module": "@jupyter-widgets/controls",
          "model_name": "HTMLModel",
          "model_module_version": "1.5.0",
          "state": {
            "_dom_classes": [],
            "_model_module": "@jupyter-widgets/controls",
            "_model_module_version": "1.5.0",
            "_model_name": "HTMLModel",
            "_view_count": null,
            "_view_module": "@jupyter-widgets/controls",
            "_view_module_version": "1.5.0",
            "_view_name": "HTMLView",
            "description": "",
            "description_tooltip": null,
            "layout": "IPY_MODEL_32863506903b4b6ba569f5f9853a2f14",
            "placeholder": "​",
            "style": "IPY_MODEL_2ee6906ac6e84c599285ee60b5573ea1",
            "value": "Downloading builder script: 100%"
          }
        },
        "248d6acd374a41f290a301cc33fc6103": {
          "model_module": "@jupyter-widgets/controls",
          "model_name": "FloatProgressModel",
          "model_module_version": "1.5.0",
          "state": {
            "_dom_classes": [],
            "_model_module": "@jupyter-widgets/controls",
            "_model_module_version": "1.5.0",
            "_model_name": "FloatProgressModel",
            "_view_count": null,
            "_view_module": "@jupyter-widgets/controls",
            "_view_module_version": "1.5.0",
            "_view_name": "ProgressView",
            "bar_style": "success",
            "description": "",
            "description_tooltip": null,
            "layout": "IPY_MODEL_5ed80f3a64ba4b20ba4e00942eabcc19",
            "max": 7021,
            "min": 0,
            "orientation": "horizontal",
            "style": "IPY_MODEL_44962ab799f4458c9b7b67f45cf5ee54",
            "value": 7021
          }
        },
        "9ca11ad303264991a35b6235a393fb09": {
          "model_module": "@jupyter-widgets/controls",
          "model_name": "HTMLModel",
          "model_module_version": "1.5.0",
          "state": {
            "_dom_classes": [],
            "_model_module": "@jupyter-widgets/controls",
            "_model_module_version": "1.5.0",
            "_model_name": "HTMLModel",
            "_view_count": null,
            "_view_module": "@jupyter-widgets/controls",
            "_view_module_version": "1.5.0",
            "_view_name": "HTMLView",
            "description": "",
            "description_tooltip": null,
            "layout": "IPY_MODEL_fff9d9cf08b34270871e2888bcc7dd7c",
            "placeholder": "​",
            "style": "IPY_MODEL_953cff84e21b4af4bec58cf3a874020b",
            "value": " 7.02k/7.02k [00:00&lt;00:00, 664kB/s]"
          }
        },
        "0ba90bbbb3504b39942327b0e941ddcd": {
          "model_module": "@jupyter-widgets/base",
          "model_name": "LayoutModel",
          "model_module_version": "1.2.0",
          "state": {
            "_model_module": "@jupyter-widgets/base",
            "_model_module_version": "1.2.0",
            "_model_name": "LayoutModel",
            "_view_count": null,
            "_view_module": "@jupyter-widgets/base",
            "_view_module_version": "1.2.0",
            "_view_name": "LayoutView",
            "align_content": null,
            "align_items": null,
            "align_self": null,
            "border": null,
            "bottom": null,
            "display": null,
            "flex": null,
            "flex_flow": null,
            "grid_area": null,
            "grid_auto_columns": null,
            "grid_auto_flow": null,
            "grid_auto_rows": null,
            "grid_column": null,
            "grid_gap": null,
            "grid_row": null,
            "grid_template_areas": null,
            "grid_template_columns": null,
            "grid_template_rows": null,
            "height": null,
            "justify_content": null,
            "justify_items": null,
            "left": null,
            "margin": null,
            "max_height": null,
            "max_width": null,
            "min_height": null,
            "min_width": null,
            "object_fit": null,
            "object_position": null,
            "order": null,
            "overflow": null,
            "overflow_x": null,
            "overflow_y": null,
            "padding": null,
            "right": null,
            "top": null,
            "visibility": null,
            "width": null
          }
        },
        "32863506903b4b6ba569f5f9853a2f14": {
          "model_module": "@jupyter-widgets/base",
          "model_name": "LayoutModel",
          "model_module_version": "1.2.0",
          "state": {
            "_model_module": "@jupyter-widgets/base",
            "_model_module_version": "1.2.0",
            "_model_name": "LayoutModel",
            "_view_count": null,
            "_view_module": "@jupyter-widgets/base",
            "_view_module_version": "1.2.0",
            "_view_name": "LayoutView",
            "align_content": null,
            "align_items": null,
            "align_self": null,
            "border": null,
            "bottom": null,
            "display": null,
            "flex": null,
            "flex_flow": null,
            "grid_area": null,
            "grid_auto_columns": null,
            "grid_auto_flow": null,
            "grid_auto_rows": null,
            "grid_column": null,
            "grid_gap": null,
            "grid_row": null,
            "grid_template_areas": null,
            "grid_template_columns": null,
            "grid_template_rows": null,
            "height": null,
            "justify_content": null,
            "justify_items": null,
            "left": null,
            "margin": null,
            "max_height": null,
            "max_width": null,
            "min_height": null,
            "min_width": null,
            "object_fit": null,
            "object_position": null,
            "order": null,
            "overflow": null,
            "overflow_x": null,
            "overflow_y": null,
            "padding": null,
            "right": null,
            "top": null,
            "visibility": null,
            "width": null
          }
        },
        "2ee6906ac6e84c599285ee60b5573ea1": {
          "model_module": "@jupyter-widgets/controls",
          "model_name": "DescriptionStyleModel",
          "model_module_version": "1.5.0",
          "state": {
            "_model_module": "@jupyter-widgets/controls",
            "_model_module_version": "1.5.0",
            "_model_name": "DescriptionStyleModel",
            "_view_count": null,
            "_view_module": "@jupyter-widgets/base",
            "_view_module_version": "1.2.0",
            "_view_name": "StyleView",
            "description_width": ""
          }
        },
        "5ed80f3a64ba4b20ba4e00942eabcc19": {
          "model_module": "@jupyter-widgets/base",
          "model_name": "LayoutModel",
          "model_module_version": "1.2.0",
          "state": {
            "_model_module": "@jupyter-widgets/base",
            "_model_module_version": "1.2.0",
            "_model_name": "LayoutModel",
            "_view_count": null,
            "_view_module": "@jupyter-widgets/base",
            "_view_module_version": "1.2.0",
            "_view_name": "LayoutView",
            "align_content": null,
            "align_items": null,
            "align_self": null,
            "border": null,
            "bottom": null,
            "display": null,
            "flex": null,
            "flex_flow": null,
            "grid_area": null,
            "grid_auto_columns": null,
            "grid_auto_flow": null,
            "grid_auto_rows": null,
            "grid_column": null,
            "grid_gap": null,
            "grid_row": null,
            "grid_template_areas": null,
            "grid_template_columns": null,
            "grid_template_rows": null,
            "height": null,
            "justify_content": null,
            "justify_items": null,
            "left": null,
            "margin": null,
            "max_height": null,
            "max_width": null,
            "min_height": null,
            "min_width": null,
            "object_fit": null,
            "object_position": null,
            "order": null,
            "overflow": null,
            "overflow_x": null,
            "overflow_y": null,
            "padding": null,
            "right": null,
            "top": null,
            "visibility": null,
            "width": null
          }
        },
        "44962ab799f4458c9b7b67f45cf5ee54": {
          "model_module": "@jupyter-widgets/controls",
          "model_name": "ProgressStyleModel",
          "model_module_version": "1.5.0",
          "state": {
            "_model_module": "@jupyter-widgets/controls",
            "_model_module_version": "1.5.0",
            "_model_name": "ProgressStyleModel",
            "_view_count": null,
            "_view_module": "@jupyter-widgets/base",
            "_view_module_version": "1.2.0",
            "_view_name": "StyleView",
            "bar_color": null,
            "description_width": ""
          }
        },
        "fff9d9cf08b34270871e2888bcc7dd7c": {
          "model_module": "@jupyter-widgets/base",
          "model_name": "LayoutModel",
          "model_module_version": "1.2.0",
          "state": {
            "_model_module": "@jupyter-widgets/base",
            "_model_module_version": "1.2.0",
            "_model_name": "LayoutModel",
            "_view_count": null,
            "_view_module": "@jupyter-widgets/base",
            "_view_module_version": "1.2.0",
            "_view_name": "LayoutView",
            "align_content": null,
            "align_items": null,
            "align_self": null,
            "border": null,
            "bottom": null,
            "display": null,
            "flex": null,
            "flex_flow": null,
            "grid_area": null,
            "grid_auto_columns": null,
            "grid_auto_flow": null,
            "grid_auto_rows": null,
            "grid_column": null,
            "grid_gap": null,
            "grid_row": null,
            "grid_template_areas": null,
            "grid_template_columns": null,
            "grid_template_rows": null,
            "height": null,
            "justify_content": null,
            "justify_items": null,
            "left": null,
            "margin": null,
            "max_height": null,
            "max_width": null,
            "min_height": null,
            "min_width": null,
            "object_fit": null,
            "object_position": null,
            "order": null,
            "overflow": null,
            "overflow_x": null,
            "overflow_y": null,
            "padding": null,
            "right": null,
            "top": null,
            "visibility": null,
            "width": null
          }
        },
        "953cff84e21b4af4bec58cf3a874020b": {
          "model_module": "@jupyter-widgets/controls",
          "model_name": "DescriptionStyleModel",
          "model_module_version": "1.5.0",
          "state": {
            "_model_module": "@jupyter-widgets/controls",
            "_model_module_version": "1.5.0",
            "_model_name": "DescriptionStyleModel",
            "_view_count": null,
            "_view_module": "@jupyter-widgets/base",
            "_view_module_version": "1.2.0",
            "_view_name": "StyleView",
            "description_width": ""
          }
        }
      }
    },
    "accelerator": "GPU"
  },
  "cells": [
    {
      "cell_type": "markdown",
      "source": [
        "# dependencies"
      ],
      "metadata": {
        "id": "g_DbpUjdN_0X"
      }
    },
    {
      "cell_type": "code",
      "source": [
        "!pip install transformers datasets sacrebleu"
      ],
      "metadata": {
        "colab": {
          "base_uri": "https://localhost:8080/"
        },
        "collapsed": true,
        "id": "gmgvmeIyNJaZ",
        "outputId": "3fe50570-94c3-49d7-9d42-ce520937c939"
      },
      "execution_count": 1,
      "outputs": [
        {
          "output_type": "stream",
          "name": "stdout",
          "text": [
            "Requirement already satisfied: transformers in /usr/local/lib/python3.11/dist-packages (4.51.3)\n",
            "Requirement already satisfied: datasets in /usr/local/lib/python3.11/dist-packages (2.14.4)\n",
            "Collecting sacrebleu\n",
            "  Downloading sacrebleu-2.5.1-py3-none-any.whl.metadata (51 kB)\n",
            "\u001b[2K     \u001b[90m━━━━━━━━━━━━━━━━━━━━━━━━━━━━━━━━━━━━━━━━\u001b[0m \u001b[32m51.8/51.8 kB\u001b[0m \u001b[31m4.2 MB/s\u001b[0m eta \u001b[36m0:00:00\u001b[0m\n",
            "\u001b[?25hRequirement already satisfied: filelock in /usr/local/lib/python3.11/dist-packages (from transformers) (3.18.0)\n",
            "Requirement already satisfied: huggingface-hub<1.0,>=0.30.0 in /usr/local/lib/python3.11/dist-packages (from transformers) (0.31.1)\n",
            "Requirement already satisfied: numpy>=1.17 in /usr/local/lib/python3.11/dist-packages (from transformers) (2.0.2)\n",
            "Requirement already satisfied: packaging>=20.0 in /usr/local/lib/python3.11/dist-packages (from transformers) (24.2)\n",
            "Requirement already satisfied: pyyaml>=5.1 in /usr/local/lib/python3.11/dist-packages (from transformers) (6.0.2)\n",
            "Requirement already satisfied: regex!=2019.12.17 in /usr/local/lib/python3.11/dist-packages (from transformers) (2024.11.6)\n",
            "Requirement already satisfied: requests in /usr/local/lib/python3.11/dist-packages (from transformers) (2.32.3)\n",
            "Requirement already satisfied: tokenizers<0.22,>=0.21 in /usr/local/lib/python3.11/dist-packages (from transformers) (0.21.1)\n",
            "Requirement already satisfied: safetensors>=0.4.3 in /usr/local/lib/python3.11/dist-packages (from transformers) (0.5.3)\n",
            "Requirement already satisfied: tqdm>=4.27 in /usr/local/lib/python3.11/dist-packages (from transformers) (4.67.1)\n",
            "Requirement already satisfied: pyarrow>=8.0.0 in /usr/local/lib/python3.11/dist-packages (from datasets) (18.1.0)\n",
            "Requirement already satisfied: dill<0.3.8,>=0.3.0 in /usr/local/lib/python3.11/dist-packages (from datasets) (0.3.7)\n",
            "Requirement already satisfied: pandas in /usr/local/lib/python3.11/dist-packages (from datasets) (2.2.2)\n",
            "Requirement already satisfied: xxhash in /usr/local/lib/python3.11/dist-packages (from datasets) (3.5.0)\n",
            "Requirement already satisfied: multiprocess in /usr/local/lib/python3.11/dist-packages (from datasets) (0.70.15)\n",
            "Requirement already satisfied: fsspec>=2021.11.1 in /usr/local/lib/python3.11/dist-packages (from fsspec[http]>=2021.11.1->datasets) (2025.3.2)\n",
            "Requirement already satisfied: aiohttp in /usr/local/lib/python3.11/dist-packages (from datasets) (3.11.15)\n",
            "Collecting portalocker (from sacrebleu)\n",
            "  Downloading portalocker-3.1.1-py3-none-any.whl.metadata (8.6 kB)\n",
            "Requirement already satisfied: tabulate>=0.8.9 in /usr/local/lib/python3.11/dist-packages (from sacrebleu) (0.9.0)\n",
            "Collecting colorama (from sacrebleu)\n",
            "  Downloading colorama-0.4.6-py2.py3-none-any.whl.metadata (17 kB)\n",
            "Requirement already satisfied: lxml in /usr/local/lib/python3.11/dist-packages (from sacrebleu) (5.4.0)\n",
            "Requirement already satisfied: aiohappyeyeballs>=2.3.0 in /usr/local/lib/python3.11/dist-packages (from aiohttp->datasets) (2.6.1)\n",
            "Requirement already satisfied: aiosignal>=1.1.2 in /usr/local/lib/python3.11/dist-packages (from aiohttp->datasets) (1.3.2)\n",
            "Requirement already satisfied: attrs>=17.3.0 in /usr/local/lib/python3.11/dist-packages (from aiohttp->datasets) (25.3.0)\n",
            "Requirement already satisfied: frozenlist>=1.1.1 in /usr/local/lib/python3.11/dist-packages (from aiohttp->datasets) (1.6.0)\n",
            "Requirement already satisfied: multidict<7.0,>=4.5 in /usr/local/lib/python3.11/dist-packages (from aiohttp->datasets) (6.4.3)\n",
            "Requirement already satisfied: propcache>=0.2.0 in /usr/local/lib/python3.11/dist-packages (from aiohttp->datasets) (0.3.1)\n",
            "Requirement already satisfied: yarl<2.0,>=1.17.0 in /usr/local/lib/python3.11/dist-packages (from aiohttp->datasets) (1.20.0)\n",
            "Requirement already satisfied: typing-extensions>=3.7.4.3 in /usr/local/lib/python3.11/dist-packages (from huggingface-hub<1.0,>=0.30.0->transformers) (4.13.2)\n",
            "Requirement already satisfied: hf-xet<2.0.0,>=1.1.0 in /usr/local/lib/python3.11/dist-packages (from huggingface-hub<1.0,>=0.30.0->transformers) (1.1.0)\n",
            "Requirement already satisfied: charset-normalizer<4,>=2 in /usr/local/lib/python3.11/dist-packages (from requests->transformers) (3.4.2)\n",
            "Requirement already satisfied: idna<4,>=2.5 in /usr/local/lib/python3.11/dist-packages (from requests->transformers) (3.10)\n",
            "Requirement already satisfied: urllib3<3,>=1.21.1 in /usr/local/lib/python3.11/dist-packages (from requests->transformers) (2.4.0)\n",
            "Requirement already satisfied: certifi>=2017.4.17 in /usr/local/lib/python3.11/dist-packages (from requests->transformers) (2025.4.26)\n",
            "Requirement already satisfied: python-dateutil>=2.8.2 in /usr/local/lib/python3.11/dist-packages (from pandas->datasets) (2.9.0.post0)\n",
            "Requirement already satisfied: pytz>=2020.1 in /usr/local/lib/python3.11/dist-packages (from pandas->datasets) (2025.2)\n",
            "Requirement already satisfied: tzdata>=2022.7 in /usr/local/lib/python3.11/dist-packages (from pandas->datasets) (2025.2)\n",
            "Requirement already satisfied: six>=1.5 in /usr/local/lib/python3.11/dist-packages (from python-dateutil>=2.8.2->pandas->datasets) (1.17.0)\n",
            "Downloading sacrebleu-2.5.1-py3-none-any.whl (104 kB)\n",
            "\u001b[2K   \u001b[90m━━━━━━━━━━━━━━━━━━━━━━━━━━━━━━━━━━━━━━━━\u001b[0m \u001b[32m104.1/104.1 kB\u001b[0m \u001b[31m8.2 MB/s\u001b[0m eta \u001b[36m0:00:00\u001b[0m\n",
            "\u001b[?25hDownloading colorama-0.4.6-py2.py3-none-any.whl (25 kB)\n",
            "Downloading portalocker-3.1.1-py3-none-any.whl (19 kB)\n",
            "Installing collected packages: portalocker, colorama, sacrebleu\n",
            "Successfully installed colorama-0.4.6 portalocker-3.1.1 sacrebleu-2.5.1\n"
          ]
        }
      ]
    },
    {
      "cell_type": "code",
      "source": [
        "!pip install evaluate"
      ],
      "metadata": {
        "colab": {
          "base_uri": "https://localhost:8080/"
        },
        "id": "MSY77G6nD-1K",
        "outputId": "bee889a3-61f6-4a12-fc71-983becacbb1e"
      },
      "execution_count": 2,
      "outputs": [
        {
          "output_type": "stream",
          "name": "stdout",
          "text": [
            "Collecting evaluate\n",
            "  Downloading evaluate-0.4.3-py3-none-any.whl.metadata (9.2 kB)\n",
            "Requirement already satisfied: datasets>=2.0.0 in /usr/local/lib/python3.11/dist-packages (from evaluate) (2.14.4)\n",
            "Requirement already satisfied: numpy>=1.17 in /usr/local/lib/python3.11/dist-packages (from evaluate) (2.0.2)\n",
            "Requirement already satisfied: dill in /usr/local/lib/python3.11/dist-packages (from evaluate) (0.3.7)\n",
            "Requirement already satisfied: pandas in /usr/local/lib/python3.11/dist-packages (from evaluate) (2.2.2)\n",
            "Requirement already satisfied: requests>=2.19.0 in /usr/local/lib/python3.11/dist-packages (from evaluate) (2.32.3)\n",
            "Requirement already satisfied: tqdm>=4.62.1 in /usr/local/lib/python3.11/dist-packages (from evaluate) (4.67.1)\n",
            "Requirement already satisfied: xxhash in /usr/local/lib/python3.11/dist-packages (from evaluate) (3.5.0)\n",
            "Requirement already satisfied: multiprocess in /usr/local/lib/python3.11/dist-packages (from evaluate) (0.70.15)\n",
            "Requirement already satisfied: fsspec>=2021.05.0 in /usr/local/lib/python3.11/dist-packages (from fsspec[http]>=2021.05.0->evaluate) (2025.3.2)\n",
            "Requirement already satisfied: huggingface-hub>=0.7.0 in /usr/local/lib/python3.11/dist-packages (from evaluate) (0.31.1)\n",
            "Requirement already satisfied: packaging in /usr/local/lib/python3.11/dist-packages (from evaluate) (24.2)\n",
            "Requirement already satisfied: pyarrow>=8.0.0 in /usr/local/lib/python3.11/dist-packages (from datasets>=2.0.0->evaluate) (18.1.0)\n",
            "Requirement already satisfied: aiohttp in /usr/local/lib/python3.11/dist-packages (from datasets>=2.0.0->evaluate) (3.11.15)\n",
            "Requirement already satisfied: pyyaml>=5.1 in /usr/local/lib/python3.11/dist-packages (from datasets>=2.0.0->evaluate) (6.0.2)\n",
            "Requirement already satisfied: filelock in /usr/local/lib/python3.11/dist-packages (from huggingface-hub>=0.7.0->evaluate) (3.18.0)\n",
            "Requirement already satisfied: typing-extensions>=3.7.4.3 in /usr/local/lib/python3.11/dist-packages (from huggingface-hub>=0.7.0->evaluate) (4.13.2)\n",
            "Requirement already satisfied: hf-xet<2.0.0,>=1.1.0 in /usr/local/lib/python3.11/dist-packages (from huggingface-hub>=0.7.0->evaluate) (1.1.0)\n",
            "Requirement already satisfied: charset-normalizer<4,>=2 in /usr/local/lib/python3.11/dist-packages (from requests>=2.19.0->evaluate) (3.4.2)\n",
            "Requirement already satisfied: idna<4,>=2.5 in /usr/local/lib/python3.11/dist-packages (from requests>=2.19.0->evaluate) (3.10)\n",
            "Requirement already satisfied: urllib3<3,>=1.21.1 in /usr/local/lib/python3.11/dist-packages (from requests>=2.19.0->evaluate) (2.4.0)\n",
            "Requirement already satisfied: certifi>=2017.4.17 in /usr/local/lib/python3.11/dist-packages (from requests>=2.19.0->evaluate) (2025.4.26)\n",
            "Requirement already satisfied: python-dateutil>=2.8.2 in /usr/local/lib/python3.11/dist-packages (from pandas->evaluate) (2.9.0.post0)\n",
            "Requirement already satisfied: pytz>=2020.1 in /usr/local/lib/python3.11/dist-packages (from pandas->evaluate) (2025.2)\n",
            "Requirement already satisfied: tzdata>=2022.7 in /usr/local/lib/python3.11/dist-packages (from pandas->evaluate) (2025.2)\n",
            "Requirement already satisfied: aiohappyeyeballs>=2.3.0 in /usr/local/lib/python3.11/dist-packages (from aiohttp->datasets>=2.0.0->evaluate) (2.6.1)\n",
            "Requirement already satisfied: aiosignal>=1.1.2 in /usr/local/lib/python3.11/dist-packages (from aiohttp->datasets>=2.0.0->evaluate) (1.3.2)\n",
            "Requirement already satisfied: attrs>=17.3.0 in /usr/local/lib/python3.11/dist-packages (from aiohttp->datasets>=2.0.0->evaluate) (25.3.0)\n",
            "Requirement already satisfied: frozenlist>=1.1.1 in /usr/local/lib/python3.11/dist-packages (from aiohttp->datasets>=2.0.0->evaluate) (1.6.0)\n",
            "Requirement already satisfied: multidict<7.0,>=4.5 in /usr/local/lib/python3.11/dist-packages (from aiohttp->datasets>=2.0.0->evaluate) (6.4.3)\n",
            "Requirement already satisfied: propcache>=0.2.0 in /usr/local/lib/python3.11/dist-packages (from aiohttp->datasets>=2.0.0->evaluate) (0.3.1)\n",
            "Requirement already satisfied: yarl<2.0,>=1.17.0 in /usr/local/lib/python3.11/dist-packages (from aiohttp->datasets>=2.0.0->evaluate) (1.20.0)\n",
            "Requirement already satisfied: six>=1.5 in /usr/local/lib/python3.11/dist-packages (from python-dateutil>=2.8.2->pandas->evaluate) (1.17.0)\n",
            "Downloading evaluate-0.4.3-py3-none-any.whl (84 kB)\n",
            "\u001b[2K   \u001b[90m━━━━━━━━━━━━━━━━━━━━━━━━━━━━━━━━━━━━━━━━\u001b[0m \u001b[32m84.0/84.0 kB\u001b[0m \u001b[31m8.0 MB/s\u001b[0m eta \u001b[36m0:00:00\u001b[0m\n",
            "\u001b[?25hInstalling collected packages: evaluate\n",
            "Successfully installed evaluate-0.4.3\n"
          ]
        }
      ]
    },
    {
      "cell_type": "markdown",
      "source": [
        "# load model"
      ],
      "metadata": {
        "id": "0oO9Cs8kODI3"
      }
    },
    {
      "cell_type": "code",
      "source": [
        "from transformers import MarianMTModel, MarianTokenizer\n",
        "\n",
        "model_name = \"Helsinki-NLP/opus-mt-ar-en\"\n",
        "tokenizer = MarianTokenizer.from_pretrained(model_name)\n",
        "model = MarianMTModel.from_pretrained(model_name)"
      ],
      "metadata": {
        "colab": {
          "base_uri": "https://localhost:8080/"
        },
        "id": "qeb46UX4NOZJ",
        "outputId": "c0fbaf6b-31bd-475e-fb62-08a951a08346"
      },
      "execution_count": 16,
      "outputs": [
        {
          "output_type": "stream",
          "name": "stderr",
          "text": [
            "/usr/local/lib/python3.11/dist-packages/transformers/models/marian/tokenization_marian.py:175: UserWarning: Recommended: pip install sacremoses.\n",
            "  warnings.warn(\"Recommended: pip install sacremoses.\")\n"
          ]
        }
      ]
    },
    {
      "cell_type": "markdown",
      "source": [
        "# load dataset"
      ],
      "metadata": {
        "id": "5HM3Xe_COHTh"
      }
    },
    {
      "cell_type": "code",
      "source": [
        "import urllib.request\n",
        "import zipfile\n",
        "import os\n",
        "\n",
        "# Step 1: Download the ZIP file\n",
        "url = \"https://object.pouta.csc.fi/OPUS-GlobalVoices/v2018q4/moses/ar-en.txt.zip\"\n",
        "output_zip = \"GlobalVoices.ar-en.zip\"\n",
        "urllib.request.urlretrieve(url, output_zip)"
      ],
      "metadata": {
        "colab": {
          "base_uri": "https://localhost:8080/"
        },
        "id": "Y9WGoMODbO1g",
        "outputId": "8a4b7e90-b711-44b2-da95-cb2da1a457db"
      },
      "execution_count": 4,
      "outputs": [
        {
          "output_type": "execute_result",
          "data": {
            "text/plain": [
              "('GlobalVoices.ar-en.zip', <http.client.HTTPMessage at 0x7bff0147d5d0>)"
            ]
          },
          "metadata": {},
          "execution_count": 4
        }
      ]
    },
    {
      "cell_type": "code",
      "source": [
        "# Step 2: Extract the ZIP file\n",
        "extract_folder = \"GlobalVoices_data\"\n",
        "with zipfile.ZipFile(output_zip, 'r') as zip_ref:\n",
        "    zip_ref.extractall(extract_folder)"
      ],
      "metadata": {
        "id": "WsJP4I2mbR1c"
      },
      "execution_count": 5,
      "outputs": []
    },
    {
      "cell_type": "code",
      "source": [
        "# Step 3: Read the Arabic and English files\n",
        "ar_path = os.path.join(extract_folder, \"GlobalVoices.ar-en.ar\")\n",
        "en_path = os.path.join(extract_folder, \"GlobalVoices.ar-en.en\")\n",
        "\n",
        "with open(ar_path, encoding='utf-8') as ar_file, \\\n",
        "     open(en_path, encoding='utf-8') as en_file:\n",
        "    ar_sentences = [line.strip() for line in ar_file.readlines()]\n",
        "    en_sentences = [line.strip() for line in en_file.readlines()]"
      ],
      "metadata": {
        "id": "65DQhGaRbUZV"
      },
      "execution_count": 6,
      "outputs": []
    },
    {
      "cell_type": "code",
      "source": [
        "# Step 4: Check a sample\n",
        "print(f\"Loaded {len(ar_sentences)} sentence pairs\")\n",
        "print(\"Example:\")\n",
        "print(\"AR:\", ar_sentences[10])\n",
        "print(\"EN:\", en_sentences[10])"
      ],
      "metadata": {
        "colab": {
          "base_uri": "https://localhost:8080/"
        },
        "id": "qe_Gvo08bXAz",
        "outputId": "1dea74a5-2630-4822-9ab5-34a9ed659dbc"
      },
      "execution_count": 7,
      "outputs": [
        {
          "output_type": "stream",
          "name": "stdout",
          "text": [
            "Loaded 63071 sentence pairs\n",
            "Example:\n",
            "AR: من المهم جداً في وقت يتم إنكار حرية التعبير لأصوات دولية عديدة من قبل حكوماتها وفي الولايات المتحدة، تسيطر كتلة إعلامية من العالم الأول من قلة متحدثة بالإنجليزية وتحدد ملكية، وتوزيع، ومحتوى الأخبار.\n",
            "EN: It's so important at a time when so many international voices are denied free speech by their governments and, in the United States, a very few, English-speaking, first-world media conglomerates dominate and determine the ownership, distribution and content of news.\n"
          ]
        }
      ]
    },
    {
      "cell_type": "markdown",
      "source": [
        "# preprocessing"
      ],
      "metadata": {
        "id": "ybMpaszNWWLc"
      }
    },
    {
      "cell_type": "markdown",
      "source": [
        "## cleaning"
      ],
      "metadata": {
        "id": "GaZJGTOzfVR-"
      }
    },
    {
      "cell_type": "code",
      "source": [
        "import re\n",
        "\n",
        "# Step 1: Align and filter sentence pairs\n",
        "cleaned_ar = []\n",
        "cleaned_en = []\n",
        "\n",
        "removed_pairs = []\n",
        "\n",
        "MIN_LEN = 3\n",
        "\n",
        "for ar, en in zip(ar_sentences, en_sentences):\n",
        "    original_ar = ar.strip()\n",
        "    original_en = en.strip()\n",
        "\n",
        "    # Skip empty or very short lines\n",
        "    if len(original_ar) < MIN_LEN or len(original_en) < MIN_LEN:\n",
        "        removed_pairs.append((original_ar, original_en, \"too_short\"))\n",
        "        continue\n",
        "\n",
        "    # Filter out garbage (long numbers)\n",
        "    if re.search(r'\\d{7,}', original_ar) or re.search(r'\\d{7,}', original_en):\n",
        "        removed_pairs.append((original_ar, original_en, \"long_number\"))\n",
        "        continue\n",
        "\n",
        "    # Filter out unwanted symbols\n",
        "    if re.search(r'[\\[\\]{}@<>^*_=~]', original_ar) or re.search(r'[\\[\\]{}@<>^*_=~]', original_en):\n",
        "        removed_pairs.append((original_ar, original_en, \"noisy_symbols\"))\n",
        "        continue\n",
        "\n",
        "    # If passed all checks, keep the pair\n",
        "    cleaned_ar.append(original_ar)\n",
        "    cleaned_en.append(original_en)\n",
        "\n",
        "# Step 2: Report stats\n",
        "print(f\"Cleaned pairs: {len(cleaned_ar)}\")\n",
        "print(f\"Removed pairs: {len(removed_pairs)}\")\n",
        "\n",
        "# Step 2: Report stats\n",
        "print(\"Example cleaned pair:\")\n",
        "print(\"AR:\", cleaned_ar[555])\n",
        "print(\"EN:\", cleaned_en[555])\n"
      ],
      "metadata": {
        "colab": {
          "base_uri": "https://localhost:8080/"
        },
        "id": "JMJ5p7JMcD4d",
        "outputId": "22aac00f-a68e-43b6-8cf4-f8f903fd3d12"
      },
      "execution_count": 8,
      "outputs": [
        {
          "output_type": "stream",
          "name": "stdout",
          "text": [
            "Cleaned pairs: 56078\n",
            "Removed pairs: 6993\n",
            "Example cleaned pair:\n",
            "AR: يوجد في ماليه وهي جزيرة صغيرة تبلغ من الحجم كيلومترين حوالي 30,000 من العماله الوافده, معظمهم من بلدان الجوار كسريلانكا والهند وبانغلادش.\n",
            "EN: Malé, which is a small island of about two square kilometers, has a population of over 30,000 migrant workers. Most of them come from the neighbouring countries of Sri Lanka, India and Bangladesh.\n"
          ]
        }
      ]
    },
    {
      "cell_type": "code",
      "source": [
        "# Dictionary to store the first example of each reason\n",
        "seen_reasons = {}\n",
        "\n",
        "for ar, en, reason in removed_pairs:\n",
        "    if reason not in seen_reasons:\n",
        "        seen_reasons[reason] = (ar, en)\n",
        "\n",
        "# Print one example for each removal reason\n",
        "print(\"🔍 One example per removal reason:\\n\")\n",
        "for reason, (ar, en) in seen_reasons.items():\n",
        "    print(f\"[Reason: {reason}]\")\n",
        "    print(\"AR:\", ar)\n",
        "    print(\"EN:\", en)\n",
        "    print()\n"
      ],
      "metadata": {
        "colab": {
          "base_uri": "https://localhost:8080/"
        },
        "id": "pgY20w_BdoS4",
        "outputId": "0e395392-dbbd-4174-dde0-4241f992f4b6"
      },
      "execution_count": 9,
      "outputs": [
        {
          "output_type": "stream",
          "name": "stdout",
          "text": [
            "🔍 One example per removal reason:\n",
            "\n",
            "[Reason: too_short]\n",
            "AR: \n",
            "EN: \n",
            "\n",
            "[Reason: noisy_symbols]\n",
            "AR: <a href=\"https://advocacy.\n",
            "EN: Show your support by posting this badge on your blog!\n",
            "\n",
            "[Reason: long_number]\n",
            "AR: وكان المقال عن المحادثات التي جرت ضمن مجموعة فيسبوك، والتي حدثت بتكرار هنا: www. facebook.\n",
            "EN: It was a topic of a conversation in a Facebook group, which originally occurred here: www.facebook.com/topic.php?uid=2204704082&topic=6904 (as you can see in the screencap)\n",
            "\n"
          ]
        }
      ]
    },
    {
      "cell_type": "markdown",
      "source": [
        "## split the data"
      ],
      "metadata": {
        "id": "Bk3b6NDJwH6N"
      }
    },
    {
      "cell_type": "code",
      "source": [
        "from sklearn.model_selection import train_test_split\n",
        "\n",
        "# Step 1: Create tuples for easier shuffling/splitting\n",
        "sentence_pairs = list(zip(cleaned_ar, cleaned_en))\n",
        "\n",
        "# Step 2: Train (80%) and temp (20%)\n",
        "train_pairs, temp_pairs = train_test_split(sentence_pairs, test_size=0.2, random_state=42)\n",
        "\n",
        "# Step 3: From temp, get val (10%) and test (10%)\n",
        "val_pairs, test_pairs = train_test_split(temp_pairs, test_size=0.5, random_state=42)\n",
        "\n",
        "# Step 4: Separate into AR/EN again\n",
        "train_ar, train_en = zip(*train_pairs)\n",
        "val_ar, val_en = zip(*val_pairs)\n",
        "test_ar, test_en = zip(*test_pairs)\n",
        "\n",
        "print(f\"Train size: {len(train_ar)}\")\n",
        "print(f\"Val size: {len(val_ar)}\")\n",
        "print(f\"Test size: {len(test_ar)}\")\n"
      ],
      "metadata": {
        "colab": {
          "base_uri": "https://localhost:8080/"
        },
        "id": "4NrlOPGewLQA",
        "outputId": "5893dc5f-f700-494e-c245-e2d5287ae3d6"
      },
      "execution_count": 10,
      "outputs": [
        {
          "output_type": "stream",
          "name": "stdout",
          "text": [
            "Train size: 44862\n",
            "Val size: 5608\n",
            "Test size: 5608\n"
          ]
        }
      ]
    },
    {
      "cell_type": "markdown",
      "source": [
        "## tokeizaiton"
      ],
      "metadata": {
        "id": "yktSjcgkfXqs"
      }
    },
    {
      "cell_type": "code",
      "source": [
        "# See max token lengths for Arabic and English\n",
        "ar_lengths = [len(tokenizer.tokenize(sent)) for sent in cleaned_ar]\n",
        "en_lengths = [len(tokenizer.tokenize(sent)) for sent in cleaned_en]\n",
        "\n",
        "print(\"Max Arabic tokens:\", max(ar_lengths))\n",
        "print(\"Max English tokens:\", max(en_lengths))\n"
      ],
      "metadata": {
        "colab": {
          "base_uri": "https://localhost:8080/"
        },
        "id": "2B1tjqYbeMfq",
        "outputId": "b9990e89-1d4a-4803-ed97-841d613ba25c"
      },
      "execution_count": null,
      "outputs": [
        {
          "output_type": "stream",
          "name": "stdout",
          "text": [
            "Max Arabic tokens: 412\n",
            "Max English tokens: 452\n"
          ]
        }
      ]
    },
    {
      "cell_type": "code",
      "source": [
        "from torch.utils.data import Dataset\n",
        "\n",
        "class TranslationDataset(Dataset):\n",
        "    def __init__(self, ar_sentences, en_sentences, tokenizer, max_length=256):\n",
        "        self.tokenizer = tokenizer\n",
        "        self.ar = ar_sentences\n",
        "        self.en = en_sentences\n",
        "        self.max_length = max_length\n",
        "\n",
        "    def __len__(self):\n",
        "        return len(self.ar)\n",
        "\n",
        "    def __getitem__(self, idx):\n",
        "        source = self.ar[idx]\n",
        "        target = self.en[idx]\n",
        "\n",
        "        # Tokenize source and target\n",
        "        model_inputs = self.tokenizer(source, max_length=self.max_length, padding=\"max_length\", truncation=True, return_tensors=\"pt\")\n",
        "        with self.tokenizer.as_target_tokenizer():\n",
        "            labels = self.tokenizer(target, max_length=self.max_length, padding=\"max_length\", truncation=True, return_tensors=\"pt\")\n",
        "\n",
        "        # Remove batch dimension\n",
        "        model_inputs = {k: v.squeeze() for k, v in model_inputs.items()}\n",
        "        model_inputs[\"labels\"] = labels[\"input_ids\"].squeeze()\n",
        "        return model_inputs\n",
        "\n",
        "# Create dataset objects\n",
        "train_dataset = TranslationDataset(train_ar, train_en, tokenizer)\n",
        "val_dataset = TranslationDataset(val_ar, val_en, tokenizer)"
      ],
      "metadata": {
        "id": "tH7VJkMHiRHe"
      },
      "execution_count": null,
      "outputs": []
    },
    {
      "cell_type": "markdown",
      "source": [
        "# training"
      ],
      "metadata": {
        "id": "T2Jqz58c0rwy"
      }
    },
    {
      "cell_type": "code",
      "source": [
        "from transformers import Seq2SeqTrainingArguments\n",
        "\n",
        "training_args = Seq2SeqTrainingArguments(\n",
        "    output_dir=\"./marian-ar-en-finetuned\",  # where model checkpoints will be saved\n",
        "    save_strategy=\"epoch\",                  # save at the end of every epoch\n",
        "    logging_strategy=\"epoch\",               # log at the end of every epoch\n",
        "    per_device_train_batch_size=32,         # adjust based on your GPU/Colab memory\n",
        "    per_device_eval_batch_size=32,\n",
        "    learning_rate=3e-5,\n",
        "    num_train_epochs=3,\n",
        "    save_total_limit=2,                     # keep only the 2 most recent checkpoints\n",
        "    predict_with_generate=True,             # needed for translation models\n",
        "    fp16=True,                              # enable mixed precision (faster on GPU)\n",
        "    report_to=\"none\"                        # disable wandb/huggingface logging\n",
        ")\n"
      ],
      "metadata": {
        "id": "Z-ovW9A90jkB"
      },
      "execution_count": null,
      "outputs": []
    },
    {
      "cell_type": "code",
      "source": [
        "from transformers import Seq2SeqTrainer\n",
        "\n",
        "trainer = Seq2SeqTrainer(\n",
        "    model=model,\n",
        "    args=training_args,\n",
        "    train_dataset=train_dataset,\n",
        "    eval_dataset=val_dataset,\n",
        "    tokenizer=tokenizer\n",
        ")"
      ],
      "metadata": {
        "colab": {
          "base_uri": "https://localhost:8080/"
        },
        "id": "7iZHKMWZ1Sll",
        "outputId": "fcc635ab-64d7-4e6c-97c4-7885a7d32188"
      },
      "execution_count": null,
      "outputs": [
        {
          "output_type": "stream",
          "name": "stderr",
          "text": [
            "<ipython-input-14-e0bfea3f5dad>:3: FutureWarning: `tokenizer` is deprecated and will be removed in version 5.0.0 for `Seq2SeqTrainer.__init__`. Use `processing_class` instead.\n",
            "  trainer = Seq2SeqTrainer(\n"
          ]
        }
      ]
    },
    {
      "cell_type": "code",
      "source": [
        "trainer.train()"
      ],
      "metadata": {
        "colab": {
          "base_uri": "https://localhost:8080/",
          "height": 380
        },
        "id": "568rREgO1Zdx",
        "outputId": "3622680d-eae5-4fbe-ec98-fc9fb55278af"
      },
      "execution_count": null,
      "outputs": [
        {
          "output_type": "stream",
          "name": "stderr",
          "text": [
            "/usr/local/lib/python3.11/dist-packages/transformers/tokenization_utils_base.py:3980: UserWarning: `as_target_tokenizer` is deprecated and will be removed in v5 of Transformers. You can tokenize your labels by using the argument `text_target` of the regular `__call__` method (either in the same call as your input texts if you use the same keyword arguments, or in a separate call.\n",
            "  warnings.warn(\n"
          ]
        },
        {
          "output_type": "display_data",
          "data": {
            "text/plain": [
              "<IPython.core.display.HTML object>"
            ],
            "text/html": [
              "\n",
              "    <div>\n",
              "      \n",
              "      <progress value='4206' max='4206' style='width:300px; height:20px; vertical-align: middle;'></progress>\n",
              "      [4206/4206 36:51, Epoch 3/3]\n",
              "    </div>\n",
              "    <table border=\"1\" class=\"dataframe\">\n",
              "  <thead>\n",
              " <tr style=\"text-align: left;\">\n",
              "      <th>Step</th>\n",
              "      <th>Training Loss</th>\n",
              "    </tr>\n",
              "  </thead>\n",
              "  <tbody>\n",
              "    <tr>\n",
              "      <td>1402</td>\n",
              "      <td>0.373100</td>\n",
              "    </tr>\n",
              "    <tr>\n",
              "      <td>2804</td>\n",
              "      <td>0.232200</td>\n",
              "    </tr>\n",
              "    <tr>\n",
              "      <td>4206</td>\n",
              "      <td>0.219700</td>\n",
              "    </tr>\n",
              "  </tbody>\n",
              "</table><p>"
            ]
          },
          "metadata": {}
        },
        {
          "output_type": "stream",
          "name": "stderr",
          "text": [
            "/usr/local/lib/python3.11/dist-packages/transformers/modeling_utils.py:3339: UserWarning: Moving the following attributes in the config to the generation config: {'max_length': 512, 'num_beams': 4, 'bad_words_ids': [[62833]]}. You are seeing this warning because you've set generation parameters in the model config, as opposed to in the generation config.\n",
            "  warnings.warn(\n",
            "/usr/local/lib/python3.11/dist-packages/transformers/tokenization_utils_base.py:3980: UserWarning: `as_target_tokenizer` is deprecated and will be removed in v5 of Transformers. You can tokenize your labels by using the argument `text_target` of the regular `__call__` method (either in the same call as your input texts if you use the same keyword arguments, or in a separate call.\n",
            "  warnings.warn(\n",
            "/usr/local/lib/python3.11/dist-packages/transformers/tokenization_utils_base.py:3980: UserWarning: `as_target_tokenizer` is deprecated and will be removed in v5 of Transformers. You can tokenize your labels by using the argument `text_target` of the regular `__call__` method (either in the same call as your input texts if you use the same keyword arguments, or in a separate call.\n",
            "  warnings.warn(\n"
          ]
        },
        {
          "output_type": "execute_result",
          "data": {
            "text/plain": [
              "TrainOutput(global_step=4206, training_loss=0.2750276356042707, metrics={'train_runtime': 2212.6787, 'train_samples_per_second': 60.825, 'train_steps_per_second': 1.901, 'total_flos': 9124490684399616.0, 'train_loss': 0.2750276356042707, 'epoch': 3.0})"
            ]
          },
          "metadata": {},
          "execution_count": 15
        }
      ]
    },
    {
      "cell_type": "code",
      "source": [
        "import matplotlib.pyplot as plt\n",
        "\n",
        "# Data\n",
        "steps = [1402, 2804, 4206]\n",
        "loss = [0.3731, 0.2322, 0.2197]\n",
        "\n",
        "# Plot\n",
        "plt.plot(steps, loss, marker='o')\n",
        "plt.title('Training Loss Over Steps')\n",
        "plt.xlabel('Step')\n",
        "plt.ylabel('Training Loss')\n",
        "plt.grid(True)\n",
        "plt.tight_layout()\n",
        "plt.show()"
      ],
      "metadata": {
        "colab": {
          "base_uri": "https://localhost:8080/",
          "height": 487
        },
        "id": "R1IzXaGmVDTl",
        "outputId": "29bd27cc-cb29-4baa-aae7-b67ea15abe43"
      },
      "execution_count": null,
      "outputs": [
        {
          "output_type": "display_data",
          "data": {
            "text/plain": [
              "<Figure size 640x480 with 1 Axes>"
            ],
            "image/png": "[encoded data removed]"
          },
          "metadata": {}
        }
      ]
    },
    {
      "cell_type": "code",
      "source": [
        "trainer.evaluate()"
      ],
      "metadata": {
        "colab": {
          "base_uri": "https://localhost:8080/",
          "height": 179
        },
        "id": "7tzB14YC089h",
        "outputId": "24545932-f5f5-4532-ae8c-116c5b09c2d2"
      },
      "execution_count": null,
      "outputs": [
        {
          "output_type": "stream",
          "name": "stderr",
          "text": [
            "/usr/local/lib/python3.11/dist-packages/transformers/tokenization_utils_base.py:3980: UserWarning: `as_target_tokenizer` is deprecated and will be removed in v5 of Transformers. You can tokenize your labels by using the argument `text_target` of the regular `__call__` method (either in the same call as your input texts if you use the same keyword arguments, or in a separate call.\n",
            "  warnings.warn(\n"
          ]
        },
        {
          "output_type": "display_data",
          "data": {
            "text/plain": [
              "<IPython.core.display.HTML object>"
            ],
            "text/html": [
              "\n",
              "    <div>\n",
              "      \n",
              "      <progress value='176' max='176' style='width:300px; height:20px; vertical-align: middle;'></progress>\n",
              "      [176/176 00:39]\n",
              "    </div>\n",
              "    "
            ]
          },
          "metadata": {}
        },
        {
          "output_type": "execute_result",
          "data": {
            "text/plain": [
              "{'eval_loss': 0.2334008663892746,\n",
              " 'eval_runtime': 39.855,\n",
              " 'eval_samples_per_second': 140.71,\n",
              " 'eval_steps_per_second': 4.416,\n",
              " 'epoch': 3.0}"
            ]
          },
          "metadata": {},
          "execution_count": 16
        }
      ]
    },
    {
      "cell_type": "markdown",
      "source": [
        "# downloading the model and checkpoints\n"
      ],
      "metadata": {
        "id": "6N0IabXW_SZE"
      }
    },
    {
      "cell_type": "code",
      "source": [
        "import shutil\n",
        "\n",
        "# Path to your fine-tuned model folder\n",
        "folder_path = \"./marian-ar-en-finetuned\"\n",
        "zip_path = folder_path + \".zip\"\n",
        "\n",
        "# Create a zip file\n",
        "shutil.make_archive(zip_path.replace(\".zip\", \"\"), 'zip', folder_path)\n"
      ],
      "metadata": {
        "colab": {
          "base_uri": "https://localhost:8080/",
          "height": 35
        },
        "id": "fNiQpE0lGsmF",
        "outputId": "6a651e1f-5489-487a-caaf-85cb7dc468b8"
      },
      "execution_count": null,
      "outputs": [
        {
          "output_type": "execute_result",
          "data": {
            "text/plain": [
              "'/content/marian-ar-en-finetuned.zip'"
            ],
            "application/vnd.google.colaboratory.intrinsic+json": {
              "type": "string"
            }
          },
          "metadata": {},
          "execution_count": 29
        }
      ]
    },
    {
      "cell_type": "code",
      "source": [
        "from google.colab import files\n",
        "\n",
        "# Download the zip file\n",
        "files.download(zip_path)\n"
      ],
      "metadata": {
        "colab": {
          "base_uri": "https://localhost:8080/",
          "height": 17
        },
        "id": "mqgAXsN2IUch",
        "outputId": "d773a78c-1974-4b43-f54c-1bcd127d50d6"
      },
      "execution_count": null,
      "outputs": [
        {
          "output_type": "display_data",
          "data": {
            "text/plain": [
              "<IPython.core.display.Javascript object>"
            ],
            "application/javascript": [
              "\n",
              "    async function download(id, filename, size) {\n",
              "      if (!google.colab.kernel.accessAllowed) {\n",
              "        return;\n",
              "      }\n",
              "      const div = document.createElement('div');\n",
              "      const label = document.createElement('label');\n",
              "      label.textContent = `Downloading \"${filename}\": `;\n",
              "      div.appendChild(label);\n",
              "      const progress = document.createElement('progress');\n",
              "      progress.max = size;\n",
              "      div.appendChild(progress);\n",
              "      document.body.appendChild(div);\n",
              "\n",
              "      const buffers = [];\n",
              "      let downloaded = 0;\n",
              "\n",
              "      const channel = await google.colab.kernel.comms.open(id);\n",
              "      // Send a message to notify the kernel that we're ready.\n",
              "      channel.send({})\n",
              "\n",
              "      for await (const message of channel.messages) {\n",
              "        // Send a message to notify the kernel that we're ready.\n",
              "        channel.send({})\n",
              "        if (message.buffers) {\n",
              "          for (const buffer of message.buffers) {\n",
              "            buffers.push(buffer);\n",
              "            downloaded += buffer.byteLength;\n",
              "            progress.value = downloaded;\n",
              "          }\n",
              "        }\n",
              "      }\n",
              "      const blob = new Blob(buffers, {type: 'application/binary'});\n",
              "      const a = document.createElement('a');\n",
              "      a.href = window.URL.createObjectURL(blob);\n",
              "      a.download = filename;\n",
              "      div.appendChild(a);\n",
              "      a.click();\n",
              "      div.remove();\n",
              "    }\n",
              "  "
            ]
          },
          "metadata": {}
        },
        {
          "output_type": "display_data",
          "data": {
            "text/plain": [
              "<IPython.core.display.Javascript object>"
            ],
            "application/javascript": [
              "download(\"download_d877a56c-ea86-44b4-ac4a-bb19728e4da4\", \"marian-ar-en-finetuned.zip\", 1695515809)"
            ]
          },
          "metadata": {}
        }
      ]
    },
    {
      "cell_type": "code",
      "source": [
        "trainer.save_model(\"translation_model1\")"
      ],
      "metadata": {
        "id": "hry4ICxaOF9c"
      },
      "execution_count": null,
      "outputs": []
    },
    {
      "cell_type": "code",
      "source": [
        "!zip -r translation_model1.zip translation_model1"
      ],
      "metadata": {
        "colab": {
          "base_uri": "https://localhost:8080/"
        },
        "id": "2nVxKoR2Olsh",
        "outputId": "571504a3-8bfc-4cd5-a196-3fdf9057cbe8"
      },
      "execution_count": null,
      "outputs": [
        {
          "output_type": "stream",
          "name": "stdout",
          "text": [
            "  adding: translation_model1/ (stored 0%)\n",
            "  adding: translation_model1/generation_config.json (deflated 43%)\n",
            "  adding: translation_model1/config.json (deflated 62%)\n",
            "  adding: translation_model1/special_tokens_map.json (deflated 35%)\n",
            "  adding: translation_model1/vocab.json (deflated 77%)\n",
            "  adding: translation_model1/training_args.bin (deflated 51%)\n",
            "  adding: translation_model1/target.spm (deflated 49%)\n",
            "  adding: translation_model1/model.safetensors (deflated 7%)\n",
            "  adding: translation_model1/tokenizer_config.json (deflated 68%)\n",
            "  adding: translation_model1/source.spm (deflated 55%)\n"
          ]
        }
      ]
    },
    {
      "cell_type": "code",
      "source": [
        "from google.colab import files\n",
        "files.download(\"translation_model1.zip\")"
      ],
      "metadata": {
        "colab": {
          "base_uri": "https://localhost:8080/",
          "height": 17
        },
        "id": "1e8xb3HMOqWd",
        "outputId": "c68c8895-aa4c-4f2e-e064-192c4006134d"
      },
      "execution_count": null,
      "outputs": [
        {
          "output_type": "display_data",
          "data": {
            "text/plain": [
              "<IPython.core.display.Javascript object>"
            ],
            "application/javascript": [
              "\n",
              "    async function download(id, filename, size) {\n",
              "      if (!google.colab.kernel.accessAllowed) {\n",
              "        return;\n",
              "      }\n",
              "      const div = document.createElement('div');\n",
              "      const label = document.createElement('label');\n",
              "      label.textContent = `Downloading \"${filename}\": `;\n",
              "      div.appendChild(label);\n",
              "      const progress = document.createElement('progress');\n",
              "      progress.max = size;\n",
              "      div.appendChild(progress);\n",
              "      document.body.appendChild(div);\n",
              "\n",
              "      const buffers = [];\n",
              "      let downloaded = 0;\n",
              "\n",
              "      const channel = await google.colab.kernel.comms.open(id);\n",
              "      // Send a message to notify the kernel that we're ready.\n",
              "      channel.send({})\n",
              "\n",
              "      for await (const message of channel.messages) {\n",
              "        // Send a message to notify the kernel that we're ready.\n",
              "        channel.send({})\n",
              "        if (message.buffers) {\n",
              "          for (const buffer of message.buffers) {\n",
              "            buffers.push(buffer);\n",
              "            downloaded += buffer.byteLength;\n",
              "            progress.value = downloaded;\n",
              "          }\n",
              "        }\n",
              "      }\n",
              "      const blob = new Blob(buffers, {type: 'application/binary'});\n",
              "      const a = document.createElement('a');\n",
              "      a.href = window.URL.createObjectURL(blob);\n",
              "      a.download = filename;\n",
              "      div.appendChild(a);\n",
              "      a.click();\n",
              "      div.remove();\n",
              "    }\n",
              "  "
            ]
          },
          "metadata": {}
        },
        {
          "output_type": "display_data",
          "data": {
            "text/plain": [
              "<IPython.core.display.Javascript object>"
            ],
            "application/javascript": [
              "download(\"download_4359cf89-5018-48cd-bf49-334361cf5ff1\", \"translation_model1.zip\", 284651049)"
            ]
          },
          "metadata": {}
        }
      ]
    },
    {
      "cell_type": "code",
      "source": [
        "from google.colab import drive\n",
        "drive.mount('/content/drive')"
      ],
      "metadata": {
        "id": "L_3M-O-9ap8m",
        "colab": {
          "base_uri": "https://localhost:8080/"
        },
        "outputId": "ee51e03f-fa61-431a-8b48-2b5b1bd3e11a"
      },
      "execution_count": 20,
      "outputs": [
        {
          "output_type": "stream",
          "name": "stdout",
          "text": [
            "Mounted at /content/drive\n"
          ]
        }
      ]
    },
    {
      "cell_type": "code",
      "source": [
        "import shutil\n",
        "\n",
        "# Replace these paths\n",
        "source_folder = '/content/translation_model'\n",
        "destination = '/content/drive/MyDrive/Translation_model'\n",
        "\n",
        "shutil.copytree(source_folder, destination)\n"
      ],
      "metadata": {
        "colab": {
          "base_uri": "https://localhost:8080/",
          "height": 35
        },
        "id": "99OBepclrqml",
        "outputId": "0e1151ed-4157-498f-8c90-415f22c8ab9a"
      },
      "execution_count": null,
      "outputs": [
        {
          "output_type": "execute_result",
          "data": {
            "text/plain": [
              "'/content/drive/MyDrive/Translation_model'"
            ],
            "application/vnd.google.colaboratory.intrinsic+json": {
              "type": "string"
            }
          },
          "metadata": {},
          "execution_count": 35
        }
      ]
    },
    {
      "cell_type": "markdown",
      "source": [
        "# testing the model"
      ],
      "metadata": {
        "id": "4QPXlJ8E_a3O"
      }
    },
    {
      "cell_type": "code",
      "source": [
        "import zipfile\n",
        "import os\n",
        "\n",
        "# Path to your uploaded zip file\n",
        "zip_path = \"/content/translation_model1.zip\"\n",
        "extract_path = \"/content/translation_model\"  # Folder to extract to\n",
        "\n",
        "# Unzip the file\n",
        "with zipfile.ZipFile(zip_path, 'r') as zip_ref:\n",
        "    zip_ref.extractall(extract_path)\n",
        "\n",
        "print(\"✅ Model unzipped successfully!\")\n"
      ],
      "metadata": {
        "colab": {
          "base_uri": "https://localhost:8080/"
        },
        "id": "7mMeX27PBlAz",
        "outputId": "9f2fa9a1-26ab-4ba5-f377-ee10fc4e216a"
      },
      "execution_count": null,
      "outputs": [
        {
          "output_type": "stream",
          "name": "stdout",
          "text": [
            "✅ Model unzipped successfully!\n"
          ]
        }
      ]
    },
    {
      "cell_type": "code",
      "source": [
        "from transformers import MarianMTModel, MarianTokenizer\n",
        "\n",
        "model_path = \"/content/drive/MyDrive/Translation_model/translation_model1\" # Updated path\n",
        "\n",
        "tokenizer = MarianTokenizer.from_pretrained(model_path)\n",
        "model = MarianMTModel.from_pretrained(model_path)"
      ],
      "metadata": {
        "id": "-JkSL9a7PAB_"
      },
      "execution_count": 21,
      "outputs": []
    },
    {
      "cell_type": "code",
      "source": [
        "import evaluate\n",
        "import torch\n",
        "\n",
        "# Load BLEU evaluator\n",
        "bleu = evaluate.load(\"sacrebleu\")\n",
        "\n",
        "# Set model to eval mode\n",
        "model.eval()\n",
        "\n",
        "# Select the first 10 sentences\n",
        "batch_ar = test_ar[:10]\n",
        "batch_en = test_en[:10]\n",
        "\n",
        "# Tokenize the input\n",
        "inputs = tokenizer(batch_ar, return_tensors=\"pt\", padding=True, truncation=True, max_length=256).to(model.device)\n",
        "\n",
        "# Generate translations\n",
        "with torch.no_grad():\n",
        "    translated = model.generate(**inputs, max_length=256, num_beams=4)\n",
        "\n",
        "# Decode predictions\n",
        "decoded = tokenizer.batch_decode(translated, skip_special_tokens=True)\n",
        "\n",
        "# Prepare for BLEU\n",
        "predictions = decoded\n",
        "references = [[ref] for ref in batch_en]\n",
        "\n",
        "# Compute BLEU score\n",
        "results = bleu.compute(predictions=predictions, references=references)\n",
        "\n",
        "# Print each sentence result\n",
        "for i in range(10):\n",
        "    print(f\"\\nSentence {i+1}:\")\n",
        "    print(\"🔸 Arabic:   \", batch_ar[i])\n",
        "    print(\"🔹 Reference:\", batch_en[i])\n",
        "    print(\"✅ Predicted:\", decoded[i])\n",
        "\n",
        "# Print overall BLEU score\n",
        "print(\"\\n🌍 BLEU score on first 10 sentences:\", results[\"score\"])\n"
      ],
      "metadata": {
        "colab": {
          "base_uri": "https://localhost:8080/"
        },
        "id": "38-ieK8N9odT",
        "outputId": "49e8de18-daba-42cf-867c-db65b8c04fb8"
      },
      "execution_count": null,
      "outputs": [
        {
          "output_type": "stream",
          "name": "stdout",
          "text": [
            "\n",
            "Sentence 1:\n",
            "🔸 Arabic:    نشر الأستاذ الجامعي لمادة التاريخ Yi-Fen Hua في مدونته شارحًا لماذا يعتقد بأن المبادىء التوجيهية الجديدة للكتاب المدرسي محكوم عليها بالفشل.\n",
            "🔹 Reference: History professor Yi-Fen Hua explained in a blog post why the new textbook guidelines are doomed to fail:\n",
            "✅ Predicted: Yai-Fen Hua published in his blog explaining why he thinks the new guidelines for the school book are doomed to failure.\n",
            "\n",
            "Sentence 2:\n",
            "🔸 Arabic:    قُبض عليه في 4 يونيو / حزيران 2000 وبعد سنة حكمت عليه محكمة في تونس بعامين سجنا لـ \"نشره معلومات خاطئة\" و\"الاستعمال غير المرخص به لشبكة الإنترنت\" و\"سرقة رب عمل\".\n",
            "🔹 Reference: He was arrested on June, 4, 2000, and one year later, a court in Tunis sentenced him to two years in prison for \"publishing false information\", \"non-authorized use of an Internet connection\" and \"theft from an employer.\"\n",
            "✅ Predicted: He was arrested on June 4, 2000 and a year later, a Tunisian court sentenced him to two years in prison for \"spreading false information\", \"unlicensed use of the Internet\" and \"stealing an employer.\"\n",
            "\n",
            "Sentence 3:\n",
            "🔸 Arabic:    في ٣/ مايو حزيران ٢٠١٢ أصدرت منظمة مراقبة حقوق الإنسان تقريرا بعنوان ”لقد أحرقو قلبي“ يوثق جرائم الحرب في مقاطعة إدلب خلال زيارة مبعوث الأمم المتحدة كوفي عنان لخطة مفاوضات السلام:\n",
            "🔹 Reference: Human Rights Watch issued on May 3, 2012, a report entitled “They Burned My Heart”, documenting war crimes in Idlib province during UN envoy Kofi Annan's peace negotiations plan:\n",
            "✅ Predicted: On 3 May 2012, Human Rights Watch released a report entitled They burned my heart documenting war crimes in Idlib province during the visit of United Nations envoy Kofi A. Anan to the peace negotiation plan:\n",
            "\n",
            "Sentence 4:\n",
            "🔸 Arabic:    وتتهم الحكومة المغربية بمباري بالمشاركة في أعمال العنف في عدد من التهم منها: \"ارتكاب العنف ضد موظفين حكوميين\" و \"قطع الطريق العام\" و \"تشكيل عصابة إجرامية\".\n",
            "🔹 Reference: The Moroccan government accuses him of participating in the violence on a number of charges including “committing violence against public servants,” “obstructing a public road,” and the “formation of a criminal gang.”\n",
            "✅ Predicted: The Moroccan government accuses Mbari of taking part in the violence on a number of charges, including \"acting violence against government officials\", \"cripping off the public road\" and \"constituting a criminal gang.\"\n",
            "\n",
            "Sentence 5:\n",
            "🔸 Arabic:    يغرد كلاوديو غوارنييري، خبير البرمجيات الخبيثة الإيطالي قائلًا:\n",
            "🔹 Reference: Claudio Guarnieri, an Italian malware expert, tweeted:\n",
            "✅ Predicted: Claudio Guarnieri, an Italian malware expert tweets:\n",
            "\n",
            "Sentence 6:\n",
            "🔸 Arabic:    رسالة الحملة أن هناك فسحة قليلة لإعادة الإندماج الاجتماعي عندما يفقد الشخص الحقوق والكرامة.\n",
            "🔹 Reference: The campaign's message is that there is little room for social reintegration when a person loses rights and dignity.\n",
            "✅ Predicted: The message of the campaign is that there is little room for social reintegration when a person loses rights and dignity.\n",
            "\n",
            "Sentence 7:\n",
            "🔸 Arabic:    ما يلي هو بعض الصور التي شارك بها بضع مصورين وتناقلها مستخدمو الإنترنت.\n",
            "🔹 Reference: Following are a few photographs shared by netizens.\n",
            "✅ Predicted: Here are some of the photos shared by a few photographers and shared by netizens.\n",
            "\n",
            "Sentence 8:\n",
            "🔸 Arabic:    أتى معنا اثنين من رجال المهرب حتى وصلنا للنقطة التي يصب فيها النهر في البحر.\n",
            "🔹 Reference: Two of them came with us until we arrived at the point where we thought the river emptied into the sea.\n",
            "✅ Predicted: Two traffickers came with us until we arrived at the point where the river was pouring into the sea.\n",
            "\n",
            "Sentence 9:\n",
            "🔸 Arabic:    صورة لعامل نيبالي مهاجر قتل في \"حادث\" في قطر.\n",
            "🔹 Reference: A Nepali migrant worker killed in Qatar 'accident' being photographed by his brother.\n",
            "✅ Predicted: A photograph of a Nepali migrant worker killed in an \"incident\" in Qatar.\n",
            "\n",
            "Sentence 10:\n",
            "🔸 Arabic:    السياسات الاشتراكية في سوريا تعود إلى عام 1958, عندما شكلت سوريا ومصر الجمهورية العربية المتحدة, تحت قيادة جمال عبد الناصر.\n",
            "🔹 Reference: The socialist policies in Syria date all the way back to 1958, when Egypt and Syria formed the United Arab Republic, under the leadership of Gamal Abd el-Nasser.\n",
            "✅ Predicted: Socialist politics in Syria dates back to 1958, when Syria and Egypt formed the United Arab Republic, led by Jamal Abdel Nasser.\n",
            "\n",
            "🌍 BLEU score on first 10 sentences: 40.42408975026862\n"
          ]
        }
      ]
    },
    {
      "cell_type": "code",
      "source": [
        "import evaluate\n",
        "import torch\n",
        "\n",
        "# Load METEOR evaluator\n",
        "meteor = evaluate.load(\"meteor\")\n",
        "\n",
        "# Set model to eval mode\n",
        "model.eval()\n",
        "\n",
        "# Select the first 10 sentences\n",
        "batch_ar = test_ar[:10]\n",
        "batch_en = test_en[:10]\n",
        "\n",
        "# Tokenize the input\n",
        "inputs = tokenizer(batch_ar, return_tensors=\"pt\", padding=True, truncation=True, max_length=256).to(model.device)\n",
        "\n",
        "# Generate translations\n",
        "with torch.no_grad():\n",
        "    translated = model.generate(**inputs, max_length=256, num_beams=4)\n",
        "\n",
        "# Decode predictions\n",
        "decoded = tokenizer.batch_decode(translated, skip_special_tokens=True)\n",
        "\n",
        "# Prepare for METEOR\n",
        "predictions = decoded\n",
        "references = batch_en  # METEOR accepts plain lists, not nested lists\n",
        "\n",
        "# Compute METEOR score\n",
        "results = meteor.compute(predictions=predictions, references=references)\n",
        "\n",
        "# Print each sentence result\n",
        "for i in range(10):\n",
        "    print(f\"\\nSentence {i+1}:\")\n",
        "    print(\"🔸 Arabic:   \", batch_ar[i])\n",
        "    print(\"🔹 Reference:\", batch_en[i])\n",
        "    print(\"✅ Predicted:\", decoded[i])\n",
        "\n",
        "# Print overall METEOR score\n",
        "print(\"\\n🌍 METEOR score on first 10 sentences:\", results[\"meteor\"])\n"
      ],
      "metadata": {
        "id": "-bEDGX2BsH8h",
        "colab": {
          "base_uri": "https://localhost:8080/",
          "height": 1000,
          "referenced_widgets": [
            "fcb961c815c148c085964f22348dd0af",
            "87f9fd50026d48829251cd28fa795f74",
            "248d6acd374a41f290a301cc33fc6103",
            "9ca11ad303264991a35b6235a393fb09",
            "0ba90bbbb3504b39942327b0e941ddcd",
            "32863506903b4b6ba569f5f9853a2f14",
            "2ee6906ac6e84c599285ee60b5573ea1",
            "5ed80f3a64ba4b20ba4e00942eabcc19",
            "44962ab799f4458c9b7b67f45cf5ee54",
            "fff9d9cf08b34270871e2888bcc7dd7c",
            "953cff84e21b4af4bec58cf3a874020b"
          ]
        },
        "outputId": "6734c267-a641-4a73-d020-9a6463d45ac6"
      },
      "execution_count": 22,
      "outputs": [
        {
          "output_type": "display_data",
          "data": {
            "text/plain": [
              "Downloading builder script:   0%|          | 0.00/7.02k [00:00<?, ?B/s]"
            ],
            "application/vnd.jupyter.widget-view+json": {
              "version_major": 2,
              "version_minor": 0,
              "model_id": "fcb961c815c148c085964f22348dd0af"
            }
          },
          "metadata": {}
        },
        {
          "output_type": "stream",
          "name": "stderr",
          "text": [
            "[nltk_data] Downloading package wordnet to /root/nltk_data...\n",
            "[nltk_data] Downloading package punkt_tab to /root/nltk_data...\n",
            "[nltk_data]   Unzipping tokenizers/punkt_tab.zip.\n",
            "[nltk_data] Downloading package omw-1.4 to /root/nltk_data...\n"
          ]
        },
        {
          "output_type": "stream",
          "name": "stdout",
          "text": [
            "\n",
            "Sentence 1:\n",
            "🔸 Arabic:    نشر الأستاذ الجامعي لمادة التاريخ Yi-Fen Hua في مدونته شارحًا لماذا يعتقد بأن المبادىء التوجيهية الجديدة للكتاب المدرسي محكوم عليها بالفشل.\n",
            "🔹 Reference: History professor Yi-Fen Hua explained in a blog post why the new textbook guidelines are doomed to fail:\n",
            "✅ Predicted: Yai-Fen Hua published in his blog explaining why he thinks the new guidelines for the school book are doomed to failure.\n",
            "\n",
            "Sentence 2:\n",
            "🔸 Arabic:    قُبض عليه في 4 يونيو / حزيران 2000 وبعد سنة حكمت عليه محكمة في تونس بعامين سجنا لـ \"نشره معلومات خاطئة\" و\"الاستعمال غير المرخص به لشبكة الإنترنت\" و\"سرقة رب عمل\".\n",
            "🔹 Reference: He was arrested on June, 4, 2000, and one year later, a court in Tunis sentenced him to two years in prison for \"publishing false information\", \"non-authorized use of an Internet connection\" and \"theft from an employer.\"\n",
            "✅ Predicted: He was arrested on June 4, 2000 and a year later, a Tunisian court sentenced him to two years in prison for \"spreading false information\", \"unlicensed use of the Internet\" and \"stealing an employer.\"\n",
            "\n",
            "Sentence 3:\n",
            "🔸 Arabic:    في ٣/ مايو حزيران ٢٠١٢ أصدرت منظمة مراقبة حقوق الإنسان تقريرا بعنوان ”لقد أحرقو قلبي“ يوثق جرائم الحرب في مقاطعة إدلب خلال زيارة مبعوث الأمم المتحدة كوفي عنان لخطة مفاوضات السلام:\n",
            "🔹 Reference: Human Rights Watch issued on May 3, 2012, a report entitled “They Burned My Heart”, documenting war crimes in Idlib province during UN envoy Kofi Annan's peace negotiations plan:\n",
            "✅ Predicted: On 3 May 2012, Human Rights Watch released a report entitled They burned my heart documenting war crimes in Idlib province during the visit of United Nations envoy Kofi A. Anan to the peace negotiation plan:\n",
            "\n",
            "Sentence 4:\n",
            "🔸 Arabic:    وتتهم الحكومة المغربية بمباري بالمشاركة في أعمال العنف في عدد من التهم منها: \"ارتكاب العنف ضد موظفين حكوميين\" و \"قطع الطريق العام\" و \"تشكيل عصابة إجرامية\".\n",
            "🔹 Reference: The Moroccan government accuses him of participating in the violence on a number of charges including “committing violence against public servants,” “obstructing a public road,” and the “formation of a criminal gang.”\n",
            "✅ Predicted: The Moroccan government accuses Mbari of taking part in the violence on a number of charges, including \"acting violence against government officials\", \"cripping off the public road\" and \"constituting a criminal gang.\"\n",
            "\n",
            "Sentence 5:\n",
            "🔸 Arabic:    يغرد كلاوديو غوارنييري، خبير البرمجيات الخبيثة الإيطالي قائلًا:\n",
            "🔹 Reference: Claudio Guarnieri, an Italian malware expert, tweeted:\n",
            "✅ Predicted: Claudio Guarnieri, an Italian malware expert tweets:\n",
            "\n",
            "Sentence 6:\n",
            "🔸 Arabic:    رسالة الحملة أن هناك فسحة قليلة لإعادة الإندماج الاجتماعي عندما يفقد الشخص الحقوق والكرامة.\n",
            "🔹 Reference: The campaign's message is that there is little room for social reintegration when a person loses rights and dignity.\n",
            "✅ Predicted: The message of the campaign is that there is little room for social reintegration when a person loses rights and dignity.\n",
            "\n",
            "Sentence 7:\n",
            "🔸 Arabic:    ما يلي هو بعض الصور التي شارك بها بضع مصورين وتناقلها مستخدمو الإنترنت.\n",
            "🔹 Reference: Following are a few photographs shared by netizens.\n",
            "✅ Predicted: Here are some of the photos shared by a few photographers and shared by netizens.\n",
            "\n",
            "Sentence 8:\n",
            "🔸 Arabic:    أتى معنا اثنين من رجال المهرب حتى وصلنا للنقطة التي يصب فيها النهر في البحر.\n",
            "🔹 Reference: Two of them came with us until we arrived at the point where we thought the river emptied into the sea.\n",
            "✅ Predicted: Two traffickers came with us until we arrived at the point where the river was pouring into the sea.\n",
            "\n",
            "Sentence 9:\n",
            "🔸 Arabic:    صورة لعامل نيبالي مهاجر قتل في \"حادث\" في قطر.\n",
            "🔹 Reference: A Nepali migrant worker killed in Qatar 'accident' being photographed by his brother.\n",
            "✅ Predicted: A photograph of a Nepali migrant worker killed in an \"incident\" in Qatar.\n",
            "\n",
            "Sentence 10:\n",
            "🔸 Arabic:    السياسات الاشتراكية في سوريا تعود إلى عام 1958, عندما شكلت سوريا ومصر الجمهورية العربية المتحدة, تحت قيادة جمال عبد الناصر.\n",
            "🔹 Reference: The socialist policies in Syria date all the way back to 1958, when Egypt and Syria formed the United Arab Republic, under the leadership of Gamal Abd el-Nasser.\n",
            "✅ Predicted: Socialist politics in Syria dates back to 1958, when Syria and Egypt formed the United Arab Republic, led by Jamal Abdel Nasser.\n",
            "\n",
            "🌍 METEOR score on first 10 sentences: 0.7007658985445097\n"
          ]
        }
      ]
    },
    {
      "cell_type": "code",
      "source": [],
      "metadata": {
        "id": "FwsNhabi_3eS"
      },
      "execution_count": null,
      "outputs": []
    }
  ]
}